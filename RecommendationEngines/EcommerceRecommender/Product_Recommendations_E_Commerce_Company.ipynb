{
 "cells": [
  {
   "cell_type": "markdown",
   "id": "8bac177b",
   "metadata": {},
   "source": [
    "## <font color='Brown'>Building a Product Recommendations ML Engine for E-Commerce Firm </font>\n",
    "\n",
    "***\n",
    "### Ivy Workshop\n",
    "#### Sunday, 27th June 2021\n"
   ]
  },
  {
   "cell_type": "markdown",
   "id": "8533ddc3",
   "metadata": {},
   "source": [
    "**`Through the session, we learn how to recommend products to customers from the time \n",
    "he/she lands on the business’s website for the first time to when he/she makes repeat purchases.`**\n",
    "\n",
    "The recommendation system is designed in 3 parts based on the business context:\n",
    "\n",
    "* [x] **Recommendation system part I** - Product popularity based system targetted at new customers\n",
    "* [x] **Recommendation system part II** - Model-based collaborative filtering system based on customer's purchase history and ratings provided by other users who bought items similar items\n",
    "* [x] **Recommendation system part III** - When a business is setting up its e-commerce website for the first time without any product rating\n"
   ]
  },
  {
   "cell_type": "markdown",
   "id": "c812ade6",
   "metadata": {},
   "source": [
    "### <font color='Brown'>Recommendation System Part 1 </font>\n",
    "\n",
    "\n",
    "Product popularity based recommendation system targeted at new customers\n",
    "Popularity based are a great strategy to target the new customers with the most popular products sold on a business's website and is very useful to cold start a recommendation engine."
   ]
  },
  {
   "cell_type": "markdown",
   "id": "3a8d689c",
   "metadata": {},
   "source": [
    "#### 1.Setting working environment"
   ]
  },
  {
   "cell_type": "code",
   "execution_count": 1,
   "id": "5f943d32",
   "metadata": {},
   "outputs": [],
   "source": [
    "import numpy as np\n",
    "import pandas as pd\n",
    "import matplotlib.pyplot as plt\n",
    "import os\n",
    "\n",
    "# %matplotlib inline\n",
    "plt.style.use(\"ggplot\")\n",
    "\n",
    "import sklearn\n",
    "from sklearn.decomposition import TruncatedSVD\n",
    "import matplotlib.pyplot as plt"
   ]
  },
  {
   "cell_type": "markdown",
   "id": "2a7825cd",
   "metadata": {},
   "source": [
    "#### 2.Reading the Files"
   ]
  },
  {
   "cell_type": "code",
   "execution_count": 2,
   "id": "53b06f2a",
   "metadata": {},
   "outputs": [],
   "source": [
    "path_name = R'C:\\Ganesha_Accenture\\01_Zself\\04_Webinars\\01_Product_Recommednations'\n",
    "input_path = os.path.join(path_name, 'Input')\n",
    "\n",
    "amazon_ratings = pd.read_csv(os.path.join(input_path,'ratings_Beauty.csv'))\n",
    "amazon_ratings = amazon_ratings.dropna()\n"
   ]
  },
  {
   "cell_type": "markdown",
   "id": "289fa5e7",
   "metadata": {},
   "source": [
    "#### 3.Inital Information about the Data"
   ]
  },
  {
   "cell_type": "code",
   "execution_count": 3,
   "id": "18d3a281",
   "metadata": {},
   "outputs": [
    {
     "name": "stdout",
     "output_type": "stream",
     "text": [
      "The Shape of data is -->(2023070, 4)\n"
     ]
    },
    {
     "data": {
      "text/html": [
       "<div>\n",
       "<style scoped>\n",
       "    .dataframe tbody tr th:only-of-type {\n",
       "        vertical-align: middle;\n",
       "    }\n",
       "\n",
       "    .dataframe tbody tr th {\n",
       "        vertical-align: top;\n",
       "    }\n",
       "\n",
       "    .dataframe thead th {\n",
       "        text-align: right;\n",
       "    }\n",
       "</style>\n",
       "<table border=\"1\" class=\"dataframe\">\n",
       "  <thead>\n",
       "    <tr style=\"text-align: right;\">\n",
       "      <th></th>\n",
       "      <th>UserId</th>\n",
       "      <th>ProductId</th>\n",
       "      <th>Rating</th>\n",
       "      <th>Timestamp</th>\n",
       "    </tr>\n",
       "  </thead>\n",
       "  <tbody>\n",
       "    <tr>\n",
       "      <th>0</th>\n",
       "      <td>A39HTATAQ9V7YF</td>\n",
       "      <td>0205616461</td>\n",
       "      <td>5.0</td>\n",
       "      <td>1369699200</td>\n",
       "    </tr>\n",
       "    <tr>\n",
       "      <th>1</th>\n",
       "      <td>A3JM6GV9MNOF9X</td>\n",
       "      <td>0558925278</td>\n",
       "      <td>3.0</td>\n",
       "      <td>1355443200</td>\n",
       "    </tr>\n",
       "    <tr>\n",
       "      <th>2</th>\n",
       "      <td>A1Z513UWSAAO0F</td>\n",
       "      <td>0558925278</td>\n",
       "      <td>5.0</td>\n",
       "      <td>1404691200</td>\n",
       "    </tr>\n",
       "    <tr>\n",
       "      <th>3</th>\n",
       "      <td>A1WMRR494NWEWV</td>\n",
       "      <td>0733001998</td>\n",
       "      <td>4.0</td>\n",
       "      <td>1382572800</td>\n",
       "    </tr>\n",
       "    <tr>\n",
       "      <th>4</th>\n",
       "      <td>A3IAAVS479H7M7</td>\n",
       "      <td>0737104473</td>\n",
       "      <td>1.0</td>\n",
       "      <td>1274227200</td>\n",
       "    </tr>\n",
       "  </tbody>\n",
       "</table>\n",
       "</div>"
      ],
      "text/plain": [
       "           UserId   ProductId  Rating   Timestamp\n",
       "0  A39HTATAQ9V7YF  0205616461     5.0  1369699200\n",
       "1  A3JM6GV9MNOF9X  0558925278     3.0  1355443200\n",
       "2  A1Z513UWSAAO0F  0558925278     5.0  1404691200\n",
       "3  A1WMRR494NWEWV  0733001998     4.0  1382572800\n",
       "4  A3IAAVS479H7M7  0737104473     1.0  1274227200"
      ]
     },
     "execution_count": 3,
     "metadata": {},
     "output_type": "execute_result"
    }
   ],
   "source": [
    "print(\"The Shape of data is -->\"+ str(amazon_ratings.shape))\n",
    "amazon_ratings.head()"
   ]
  },
  {
   "cell_type": "markdown",
   "id": "6fca1761",
   "metadata": {},
   "source": [
    "#### 4. Recommending Products based on the Popular Products"
   ]
  },
  {
   "cell_type": "code",
   "execution_count": 4,
   "id": "3e3ad7ec",
   "metadata": {},
   "outputs": [
    {
     "data": {
      "text/html": [
       "<div>\n",
       "<style scoped>\n",
       "    .dataframe tbody tr th:only-of-type {\n",
       "        vertical-align: middle;\n",
       "    }\n",
       "\n",
       "    .dataframe tbody tr th {\n",
       "        vertical-align: top;\n",
       "    }\n",
       "\n",
       "    .dataframe thead th {\n",
       "        text-align: right;\n",
       "    }\n",
       "</style>\n",
       "<table border=\"1\" class=\"dataframe\">\n",
       "  <thead>\n",
       "    <tr style=\"text-align: right;\">\n",
       "      <th></th>\n",
       "      <th>ProductId</th>\n",
       "      <th>Rating</th>\n",
       "    </tr>\n",
       "  </thead>\n",
       "  <tbody>\n",
       "    <tr>\n",
       "      <th>0</th>\n",
       "      <td>B001MA0QY2</td>\n",
       "      <td>7533</td>\n",
       "    </tr>\n",
       "    <tr>\n",
       "      <th>1</th>\n",
       "      <td>B0009V1YR8</td>\n",
       "      <td>2869</td>\n",
       "    </tr>\n",
       "    <tr>\n",
       "      <th>2</th>\n",
       "      <td>B0043OYFKU</td>\n",
       "      <td>2477</td>\n",
       "    </tr>\n",
       "    <tr>\n",
       "      <th>3</th>\n",
       "      <td>B0000YUXI0</td>\n",
       "      <td>2143</td>\n",
       "    </tr>\n",
       "    <tr>\n",
       "      <th>4</th>\n",
       "      <td>B003V265QW</td>\n",
       "      <td>2088</td>\n",
       "    </tr>\n",
       "    <tr>\n",
       "      <th>5</th>\n",
       "      <td>B000ZMBSPE</td>\n",
       "      <td>2041</td>\n",
       "    </tr>\n",
       "    <tr>\n",
       "      <th>6</th>\n",
       "      <td>B003BQ6QXK</td>\n",
       "      <td>1918</td>\n",
       "    </tr>\n",
       "    <tr>\n",
       "      <th>7</th>\n",
       "      <td>B004OHQR1Q</td>\n",
       "      <td>1885</td>\n",
       "    </tr>\n",
       "    <tr>\n",
       "      <th>8</th>\n",
       "      <td>B00121UVU0</td>\n",
       "      <td>1838</td>\n",
       "    </tr>\n",
       "    <tr>\n",
       "      <th>9</th>\n",
       "      <td>B000FS05VG</td>\n",
       "      <td>1589</td>\n",
       "    </tr>\n",
       "  </tbody>\n",
       "</table>\n",
       "</div>"
      ],
      "text/plain": [
       "    ProductId  Rating\n",
       "0  B001MA0QY2    7533\n",
       "1  B0009V1YR8    2869\n",
       "2  B0043OYFKU    2477\n",
       "3  B0000YUXI0    2143\n",
       "4  B003V265QW    2088\n",
       "5  B000ZMBSPE    2041\n",
       "6  B003BQ6QXK    1918\n",
       "7  B004OHQR1Q    1885\n",
       "8  B00121UVU0    1838\n",
       "9  B000FS05VG    1589"
      ]
     },
     "execution_count": 4,
     "metadata": {},
     "output_type": "execute_result"
    }
   ],
   "source": [
    "popular_products = pd.DataFrame(amazon_ratings.groupby('ProductId')['Rating'].count())\n",
    "most_popular = popular_products.sort_values('Rating', ascending=False).reset_index()\n",
    "most_popular_top_10 = most_popular.head(10)\n",
    "most_popular_top_10"
   ]
  },
  {
   "cell_type": "code",
   "execution_count": 5,
   "id": "3648a1f5",
   "metadata": {},
   "outputs": [
    {
     "data": {
      "text/plain": [
       "<BarContainer object of 10 artists>"
      ]
     },
     "execution_count": 5,
     "metadata": {},
     "output_type": "execute_result"
    },
    {
     "data": {
      "image/png": "[encoded data removed]",
      "text/plain": [
       "<Figure size 1440x360 with 1 Axes>"
      ]
     },
     "metadata": {},
     "output_type": "display_data"
    }
   ],
   "source": [
    "#most_popular.head(30).plot(kind = \"bar\")\n",
    "fig = plt.figure(figsize = (20, 5))\n",
    " \n",
    "# creating the bar plot\n",
    "plt.bar(most_popular_top_10.ProductId, most_popular_top_10.Rating, color ='maroon',\n",
    "        width = 0.4)\n",
    " "
   ]
  },
  {
   "cell_type": "markdown",
   "id": "71053996",
   "metadata": {},
   "source": [
    "*** Analysis ***\n",
    "\n",
    "The above graph gives us the most popular products (arranged in descending order) sold by the business.\n",
    "\n",
    "For eaxmple, product, ID # B001MA0QY2 has sales of over 7000, the next most popular product, ID # B0009V1YR8 has sales of 3000, etc."
   ]
  },
  {
   "cell_type": "markdown",
   "id": "6e980f9d",
   "metadata": {},
   "source": [
    "### <font color='Brown'>Recommendation System Part 2 </font>"
   ]
  },
  {
   "cell_type": "markdown",
   "id": "13363948",
   "metadata": {},
   "source": [
    "**Model-based collaborative filtering system**\n",
    "\n",
    "* Recommend items to users based on purchase history and similarity of ratings provided by other users who bought items to that of a particular customer.\n",
    "\n",
    "* A model based collaborative filtering technique is chosen here as it helps in making predicting products for a particular user by identifying patterns based on preferences from multiple user data."
   ]
  },
  {
   "cell_type": "code",
   "execution_count": 6,
   "id": "583f8116",
   "metadata": {},
   "outputs": [
    {
     "data": {
      "text/html": [
       "<div>\n",
       "<style scoped>\n",
       "    .dataframe tbody tr th:only-of-type {\n",
       "        vertical-align: middle;\n",
       "    }\n",
       "\n",
       "    .dataframe tbody tr th {\n",
       "        vertical-align: top;\n",
       "    }\n",
       "\n",
       "    .dataframe thead th {\n",
       "        text-align: right;\n",
       "    }\n",
       "</style>\n",
       "<table border=\"1\" class=\"dataframe\">\n",
       "  <thead>\n",
       "    <tr style=\"text-align: right;\">\n",
       "      <th></th>\n",
       "      <th>UserId</th>\n",
       "      <th>ProductId</th>\n",
       "      <th>Rating</th>\n",
       "      <th>Timestamp</th>\n",
       "    </tr>\n",
       "  </thead>\n",
       "  <tbody>\n",
       "    <tr>\n",
       "      <th>0</th>\n",
       "      <td>A39HTATAQ9V7YF</td>\n",
       "      <td>0205616461</td>\n",
       "      <td>5.0</td>\n",
       "      <td>1369699200</td>\n",
       "    </tr>\n",
       "    <tr>\n",
       "      <th>1</th>\n",
       "      <td>A3JM6GV9MNOF9X</td>\n",
       "      <td>0558925278</td>\n",
       "      <td>3.0</td>\n",
       "      <td>1355443200</td>\n",
       "    </tr>\n",
       "    <tr>\n",
       "      <th>2</th>\n",
       "      <td>A1Z513UWSAAO0F</td>\n",
       "      <td>0558925278</td>\n",
       "      <td>5.0</td>\n",
       "      <td>1404691200</td>\n",
       "    </tr>\n",
       "    <tr>\n",
       "      <th>3</th>\n",
       "      <td>A1WMRR494NWEWV</td>\n",
       "      <td>0733001998</td>\n",
       "      <td>4.0</td>\n",
       "      <td>1382572800</td>\n",
       "    </tr>\n",
       "  </tbody>\n",
       "</table>\n",
       "</div>"
      ],
      "text/plain": [
       "           UserId   ProductId  Rating   Timestamp\n",
       "0  A39HTATAQ9V7YF  0205616461     5.0  1369699200\n",
       "1  A3JM6GV9MNOF9X  0558925278     3.0  1355443200\n",
       "2  A1Z513UWSAAO0F  0558925278     5.0  1404691200\n",
       "3  A1WMRR494NWEWV  0733001998     4.0  1382572800"
      ]
     },
     "execution_count": 6,
     "metadata": {},
     "output_type": "execute_result"
    }
   ],
   "source": [
    "#Subsetting the Data\n",
    "amazon_ratings1 = amazon_ratings.head(10000)\n",
    "amazon_ratings1.head(4)"
   ]
  },
  {
   "cell_type": "markdown",
   "id": "d045ae92",
   "metadata": {},
   "source": [
    "**Utility Matrix based on products sold and user reviews**\n",
    "\n",
    "* Utility Matrix : An utlity matrix is consists of all possible user-item preferences (ratings) details represented as a matrix. The utility matrix is sparse as none of the users would buy all teh items in the list, hence, most of the values are unknown."
   ]
  },
  {
   "cell_type": "code",
   "execution_count": 7,
   "id": "f8578cb0",
   "metadata": {},
   "outputs": [
    {
     "name": "stdout",
     "output_type": "stream",
     "text": [
      "The Shape of ratings_utility_matrix-->(9697, 886)\n"
     ]
    },
    {
     "data": {
      "text/html": [
       "<div>\n",
       "<style scoped>\n",
       "    .dataframe tbody tr th:only-of-type {\n",
       "        vertical-align: middle;\n",
       "    }\n",
       "\n",
       "    .dataframe tbody tr th {\n",
       "        vertical-align: top;\n",
       "    }\n",
       "\n",
       "    .dataframe thead th {\n",
       "        text-align: right;\n",
       "    }\n",
       "</style>\n",
       "<table border=\"1\" class=\"dataframe\">\n",
       "  <thead>\n",
       "    <tr style=\"text-align: right;\">\n",
       "      <th>ProductId</th>\n",
       "      <th>0205616461</th>\n",
       "      <th>0558925278</th>\n",
       "      <th>0733001998</th>\n",
       "      <th>0737104473</th>\n",
       "      <th>0762451459</th>\n",
       "      <th>1304139212</th>\n",
       "      <th>1304139220</th>\n",
       "      <th>130414089X</th>\n",
       "      <th>130414643X</th>\n",
       "      <th>1304146537</th>\n",
       "      <th>...</th>\n",
       "      <th>B000052YPE</th>\n",
       "      <th>B000052YPF</th>\n",
       "      <th>B000052YPG</th>\n",
       "      <th>B000052YPH</th>\n",
       "      <th>B000052YPM</th>\n",
       "      <th>B000052YPU</th>\n",
       "      <th>B000052YPV</th>\n",
       "      <th>B000052YPY</th>\n",
       "      <th>B000052YQ0</th>\n",
       "      <th>B000052YQ2</th>\n",
       "    </tr>\n",
       "    <tr>\n",
       "      <th>UserId</th>\n",
       "      <th></th>\n",
       "      <th></th>\n",
       "      <th></th>\n",
       "      <th></th>\n",
       "      <th></th>\n",
       "      <th></th>\n",
       "      <th></th>\n",
       "      <th></th>\n",
       "      <th></th>\n",
       "      <th></th>\n",
       "      <th></th>\n",
       "      <th></th>\n",
       "      <th></th>\n",
       "      <th></th>\n",
       "      <th></th>\n",
       "      <th></th>\n",
       "      <th></th>\n",
       "      <th></th>\n",
       "      <th></th>\n",
       "      <th></th>\n",
       "      <th></th>\n",
       "    </tr>\n",
       "  </thead>\n",
       "  <tbody>\n",
       "    <tr>\n",
       "      <th>A00205921JHJK5X9LNP42</th>\n",
       "      <td>0</td>\n",
       "      <td>0</td>\n",
       "      <td>0</td>\n",
       "      <td>0</td>\n",
       "      <td>0</td>\n",
       "      <td>0</td>\n",
       "      <td>0</td>\n",
       "      <td>0</td>\n",
       "      <td>0</td>\n",
       "      <td>0</td>\n",
       "      <td>...</td>\n",
       "      <td>0</td>\n",
       "      <td>0</td>\n",
       "      <td>0</td>\n",
       "      <td>0</td>\n",
       "      <td>0</td>\n",
       "      <td>0</td>\n",
       "      <td>0</td>\n",
       "      <td>0</td>\n",
       "      <td>0</td>\n",
       "      <td>0</td>\n",
       "    </tr>\n",
       "    <tr>\n",
       "      <th>A024581134CV80ZBLIZTZ</th>\n",
       "      <td>0</td>\n",
       "      <td>0</td>\n",
       "      <td>0</td>\n",
       "      <td>0</td>\n",
       "      <td>0</td>\n",
       "      <td>0</td>\n",
       "      <td>0</td>\n",
       "      <td>0</td>\n",
       "      <td>0</td>\n",
       "      <td>0</td>\n",
       "      <td>...</td>\n",
       "      <td>0</td>\n",
       "      <td>0</td>\n",
       "      <td>0</td>\n",
       "      <td>0</td>\n",
       "      <td>0</td>\n",
       "      <td>0</td>\n",
       "      <td>0</td>\n",
       "      <td>0</td>\n",
       "      <td>0</td>\n",
       "      <td>0</td>\n",
       "    </tr>\n",
       "    <tr>\n",
       "      <th>A03056581JJIOL5FSKJY7</th>\n",
       "      <td>0</td>\n",
       "      <td>0</td>\n",
       "      <td>0</td>\n",
       "      <td>0</td>\n",
       "      <td>0</td>\n",
       "      <td>0</td>\n",
       "      <td>0</td>\n",
       "      <td>0</td>\n",
       "      <td>0</td>\n",
       "      <td>0</td>\n",
       "      <td>...</td>\n",
       "      <td>0</td>\n",
       "      <td>0</td>\n",
       "      <td>0</td>\n",
       "      <td>0</td>\n",
       "      <td>0</td>\n",
       "      <td>0</td>\n",
       "      <td>0</td>\n",
       "      <td>0</td>\n",
       "      <td>0</td>\n",
       "      <td>0</td>\n",
       "    </tr>\n",
       "    <tr>\n",
       "      <th>A03099101ZRK4K607JVHH</th>\n",
       "      <td>0</td>\n",
       "      <td>0</td>\n",
       "      <td>0</td>\n",
       "      <td>0</td>\n",
       "      <td>0</td>\n",
       "      <td>0</td>\n",
       "      <td>0</td>\n",
       "      <td>0</td>\n",
       "      <td>0</td>\n",
       "      <td>0</td>\n",
       "      <td>...</td>\n",
       "      <td>0</td>\n",
       "      <td>0</td>\n",
       "      <td>0</td>\n",
       "      <td>0</td>\n",
       "      <td>0</td>\n",
       "      <td>0</td>\n",
       "      <td>0</td>\n",
       "      <td>0</td>\n",
       "      <td>0</td>\n",
       "      <td>0</td>\n",
       "    </tr>\n",
       "    <tr>\n",
       "      <th>A0505229A7NSH3FRXRR4</th>\n",
       "      <td>0</td>\n",
       "      <td>0</td>\n",
       "      <td>0</td>\n",
       "      <td>0</td>\n",
       "      <td>0</td>\n",
       "      <td>0</td>\n",
       "      <td>0</td>\n",
       "      <td>0</td>\n",
       "      <td>0</td>\n",
       "      <td>0</td>\n",
       "      <td>...</td>\n",
       "      <td>0</td>\n",
       "      <td>0</td>\n",
       "      <td>0</td>\n",
       "      <td>0</td>\n",
       "      <td>0</td>\n",
       "      <td>0</td>\n",
       "      <td>0</td>\n",
       "      <td>0</td>\n",
       "      <td>0</td>\n",
       "      <td>0</td>\n",
       "    </tr>\n",
       "  </tbody>\n",
       "</table>\n",
       "<p>5 rows × 886 columns</p>\n",
       "</div>"
      ],
      "text/plain": [
       "ProductId              0205616461  0558925278  0733001998  0737104473  \\\n",
       "UserId                                                                  \n",
       "A00205921JHJK5X9LNP42           0           0           0           0   \n",
       "A024581134CV80ZBLIZTZ           0           0           0           0   \n",
       "A03056581JJIOL5FSKJY7           0           0           0           0   \n",
       "A03099101ZRK4K607JVHH           0           0           0           0   \n",
       "A0505229A7NSH3FRXRR4            0           0           0           0   \n",
       "\n",
       "ProductId              0762451459  1304139212  1304139220  130414089X  \\\n",
       "UserId                                                                  \n",
       "A00205921JHJK5X9LNP42           0           0           0           0   \n",
       "A024581134CV80ZBLIZTZ           0           0           0           0   \n",
       "A03056581JJIOL5FSKJY7           0           0           0           0   \n",
       "A03099101ZRK4K607JVHH           0           0           0           0   \n",
       "A0505229A7NSH3FRXRR4            0           0           0           0   \n",
       "\n",
       "ProductId              130414643X  1304146537  ...  B000052YPE  B000052YPF  \\\n",
       "UserId                                         ...                           \n",
       "A00205921JHJK5X9LNP42           0           0  ...           0           0   \n",
       "A024581134CV80ZBLIZTZ           0           0  ...           0           0   \n",
       "A03056581JJIOL5FSKJY7           0           0  ...           0           0   \n",
       "A03099101ZRK4K607JVHH           0           0  ...           0           0   \n",
       "A0505229A7NSH3FRXRR4            0           0  ...           0           0   \n",
       "\n",
       "ProductId              B000052YPG  B000052YPH  B000052YPM  B000052YPU  \\\n",
       "UserId                                                                  \n",
       "A00205921JHJK5X9LNP42           0           0           0           0   \n",
       "A024581134CV80ZBLIZTZ           0           0           0           0   \n",
       "A03056581JJIOL5FSKJY7           0           0           0           0   \n",
       "A03099101ZRK4K607JVHH           0           0           0           0   \n",
       "A0505229A7NSH3FRXRR4            0           0           0           0   \n",
       "\n",
       "ProductId              B000052YPV  B000052YPY  B000052YQ0  B000052YQ2  \n",
       "UserId                                                                 \n",
       "A00205921JHJK5X9LNP42           0           0           0           0  \n",
       "A024581134CV80ZBLIZTZ           0           0           0           0  \n",
       "A03056581JJIOL5FSKJY7           0           0           0           0  \n",
       "A03099101ZRK4K607JVHH           0           0           0           0  \n",
       "A0505229A7NSH3FRXRR4            0           0           0           0  \n",
       "\n",
       "[5 rows x 886 columns]"
      ]
     },
     "execution_count": 7,
     "metadata": {},
     "output_type": "execute_result"
    }
   ],
   "source": [
    "#Creating the Utility Matrix\n",
    "ratings_utility_matrix = amazon_ratings1.pivot_table(values='Rating', index='UserId', columns='ProductId', fill_value=0)\n",
    "print(\"The Shape of ratings_utility_matrix-->\"+str(ratings_utility_matrix.shape))\n",
    "ratings_utility_matrix.head()"
   ]
  },
  {
   "cell_type": "markdown",
   "id": "cf482250",
   "metadata": {},
   "source": [
    "As expected, the utility matrix obtaned above is sparse."
   ]
  },
  {
   "cell_type": "code",
   "execution_count": 8,
   "id": "f4fbd9bf",
   "metadata": {},
   "outputs": [
    {
     "name": "stdout",
     "output_type": "stream",
     "text": [
      "The shape of transposed matrix is(886, 9697)\n"
     ]
    },
    {
     "data": {
      "text/html": [
       "<div>\n",
       "<style scoped>\n",
       "    .dataframe tbody tr th:only-of-type {\n",
       "        vertical-align: middle;\n",
       "    }\n",
       "\n",
       "    .dataframe tbody tr th {\n",
       "        vertical-align: top;\n",
       "    }\n",
       "\n",
       "    .dataframe thead th {\n",
       "        text-align: right;\n",
       "    }\n",
       "</style>\n",
       "<table border=\"1\" class=\"dataframe\">\n",
       "  <thead>\n",
       "    <tr style=\"text-align: right;\">\n",
       "      <th>UserId</th>\n",
       "      <th>A00205921JHJK5X9LNP42</th>\n",
       "      <th>A024581134CV80ZBLIZTZ</th>\n",
       "      <th>A03056581JJIOL5FSKJY7</th>\n",
       "      <th>A03099101ZRK4K607JVHH</th>\n",
       "      <th>A0505229A7NSH3FRXRR4</th>\n",
       "      <th>A05492663T95KW63BR75K</th>\n",
       "      <th>A059547920Q3LZVFHLPI3</th>\n",
       "      <th>A07410232KYRFR25CIUGJ</th>\n",
       "      <th>A082796624UNM47DSAI6K</th>\n",
       "      <th>A0864963DOAY7LXGS5I6</th>\n",
       "      <th>...</th>\n",
       "      <th>AZW1HXXYAC15B</th>\n",
       "      <th>AZWRTJPN7NXT</th>\n",
       "      <th>AZWTXHXZXFAYP</th>\n",
       "      <th>AZYQEFB9Y5N22</th>\n",
       "      <th>AZZHB6U54UDYW</th>\n",
       "      <th>AZZHJZP4GQPPZ</th>\n",
       "      <th>AZZNK89PXD006</th>\n",
       "      <th>AZZOFVMQC0BJG</th>\n",
       "      <th>AZZQXL8VDCFTV</th>\n",
       "      <th>AZZTJQ7CQZUD8</th>\n",
       "    </tr>\n",
       "    <tr>\n",
       "      <th>ProductId</th>\n",
       "      <th></th>\n",
       "      <th></th>\n",
       "      <th></th>\n",
       "      <th></th>\n",
       "      <th></th>\n",
       "      <th></th>\n",
       "      <th></th>\n",
       "      <th></th>\n",
       "      <th></th>\n",
       "      <th></th>\n",
       "      <th></th>\n",
       "      <th></th>\n",
       "      <th></th>\n",
       "      <th></th>\n",
       "      <th></th>\n",
       "      <th></th>\n",
       "      <th></th>\n",
       "      <th></th>\n",
       "      <th></th>\n",
       "      <th></th>\n",
       "      <th></th>\n",
       "    </tr>\n",
       "  </thead>\n",
       "  <tbody>\n",
       "    <tr>\n",
       "      <th>0205616461</th>\n",
       "      <td>0</td>\n",
       "      <td>0</td>\n",
       "      <td>0</td>\n",
       "      <td>0</td>\n",
       "      <td>0</td>\n",
       "      <td>0</td>\n",
       "      <td>0</td>\n",
       "      <td>0</td>\n",
       "      <td>0</td>\n",
       "      <td>0</td>\n",
       "      <td>...</td>\n",
       "      <td>0</td>\n",
       "      <td>0</td>\n",
       "      <td>0</td>\n",
       "      <td>0</td>\n",
       "      <td>0</td>\n",
       "      <td>0</td>\n",
       "      <td>0</td>\n",
       "      <td>0</td>\n",
       "      <td>0</td>\n",
       "      <td>0</td>\n",
       "    </tr>\n",
       "    <tr>\n",
       "      <th>0558925278</th>\n",
       "      <td>0</td>\n",
       "      <td>0</td>\n",
       "      <td>0</td>\n",
       "      <td>0</td>\n",
       "      <td>0</td>\n",
       "      <td>0</td>\n",
       "      <td>0</td>\n",
       "      <td>0</td>\n",
       "      <td>0</td>\n",
       "      <td>0</td>\n",
       "      <td>...</td>\n",
       "      <td>0</td>\n",
       "      <td>0</td>\n",
       "      <td>0</td>\n",
       "      <td>0</td>\n",
       "      <td>0</td>\n",
       "      <td>0</td>\n",
       "      <td>0</td>\n",
       "      <td>0</td>\n",
       "      <td>0</td>\n",
       "      <td>0</td>\n",
       "    </tr>\n",
       "    <tr>\n",
       "      <th>0733001998</th>\n",
       "      <td>0</td>\n",
       "      <td>0</td>\n",
       "      <td>0</td>\n",
       "      <td>0</td>\n",
       "      <td>0</td>\n",
       "      <td>0</td>\n",
       "      <td>0</td>\n",
       "      <td>0</td>\n",
       "      <td>0</td>\n",
       "      <td>0</td>\n",
       "      <td>...</td>\n",
       "      <td>0</td>\n",
       "      <td>0</td>\n",
       "      <td>0</td>\n",
       "      <td>0</td>\n",
       "      <td>0</td>\n",
       "      <td>0</td>\n",
       "      <td>0</td>\n",
       "      <td>0</td>\n",
       "      <td>0</td>\n",
       "      <td>0</td>\n",
       "    </tr>\n",
       "    <tr>\n",
       "      <th>0737104473</th>\n",
       "      <td>0</td>\n",
       "      <td>0</td>\n",
       "      <td>0</td>\n",
       "      <td>0</td>\n",
       "      <td>0</td>\n",
       "      <td>0</td>\n",
       "      <td>0</td>\n",
       "      <td>0</td>\n",
       "      <td>0</td>\n",
       "      <td>0</td>\n",
       "      <td>...</td>\n",
       "      <td>0</td>\n",
       "      <td>0</td>\n",
       "      <td>0</td>\n",
       "      <td>0</td>\n",
       "      <td>0</td>\n",
       "      <td>0</td>\n",
       "      <td>0</td>\n",
       "      <td>0</td>\n",
       "      <td>0</td>\n",
       "      <td>0</td>\n",
       "    </tr>\n",
       "    <tr>\n",
       "      <th>0762451459</th>\n",
       "      <td>0</td>\n",
       "      <td>0</td>\n",
       "      <td>0</td>\n",
       "      <td>0</td>\n",
       "      <td>0</td>\n",
       "      <td>0</td>\n",
       "      <td>0</td>\n",
       "      <td>0</td>\n",
       "      <td>0</td>\n",
       "      <td>0</td>\n",
       "      <td>...</td>\n",
       "      <td>0</td>\n",
       "      <td>0</td>\n",
       "      <td>0</td>\n",
       "      <td>0</td>\n",
       "      <td>0</td>\n",
       "      <td>0</td>\n",
       "      <td>0</td>\n",
       "      <td>0</td>\n",
       "      <td>0</td>\n",
       "      <td>0</td>\n",
       "    </tr>\n",
       "  </tbody>\n",
       "</table>\n",
       "<p>5 rows × 9697 columns</p>\n",
       "</div>"
      ],
      "text/plain": [
       "UserId      A00205921JHJK5X9LNP42  A024581134CV80ZBLIZTZ  \\\n",
       "ProductId                                                  \n",
       "0205616461                      0                      0   \n",
       "0558925278                      0                      0   \n",
       "0733001998                      0                      0   \n",
       "0737104473                      0                      0   \n",
       "0762451459                      0                      0   \n",
       "\n",
       "UserId      A03056581JJIOL5FSKJY7  A03099101ZRK4K607JVHH  \\\n",
       "ProductId                                                  \n",
       "0205616461                      0                      0   \n",
       "0558925278                      0                      0   \n",
       "0733001998                      0                      0   \n",
       "0737104473                      0                      0   \n",
       "0762451459                      0                      0   \n",
       "\n",
       "UserId      A0505229A7NSH3FRXRR4  A05492663T95KW63BR75K  \\\n",
       "ProductId                                                 \n",
       "0205616461                     0                      0   \n",
       "0558925278                     0                      0   \n",
       "0733001998                     0                      0   \n",
       "0737104473                     0                      0   \n",
       "0762451459                     0                      0   \n",
       "\n",
       "UserId      A059547920Q3LZVFHLPI3  A07410232KYRFR25CIUGJ  \\\n",
       "ProductId                                                  \n",
       "0205616461                      0                      0   \n",
       "0558925278                      0                      0   \n",
       "0733001998                      0                      0   \n",
       "0737104473                      0                      0   \n",
       "0762451459                      0                      0   \n",
       "\n",
       "UserId      A082796624UNM47DSAI6K  A0864963DOAY7LXGS5I6  ...  AZW1HXXYAC15B  \\\n",
       "ProductId                                                ...                  \n",
       "0205616461                      0                     0  ...              0   \n",
       "0558925278                      0                     0  ...              0   \n",
       "0733001998                      0                     0  ...              0   \n",
       "0737104473                      0                     0  ...              0   \n",
       "0762451459                      0                     0  ...              0   \n",
       "\n",
       "UserId      AZWRTJPN7NXT  AZWTXHXZXFAYP  AZYQEFB9Y5N22  AZZHB6U54UDYW  \\\n",
       "ProductId                                                               \n",
       "0205616461             0              0              0              0   \n",
       "0558925278             0              0              0              0   \n",
       "0733001998             0              0              0              0   \n",
       "0737104473             0              0              0              0   \n",
       "0762451459             0              0              0              0   \n",
       "\n",
       "UserId      AZZHJZP4GQPPZ  AZZNK89PXD006  AZZOFVMQC0BJG  AZZQXL8VDCFTV  \\\n",
       "ProductId                                                                \n",
       "0205616461              0              0              0              0   \n",
       "0558925278              0              0              0              0   \n",
       "0733001998              0              0              0              0   \n",
       "0737104473              0              0              0              0   \n",
       "0762451459              0              0              0              0   \n",
       "\n",
       "UserId      AZZTJQ7CQZUD8  \n",
       "ProductId                  \n",
       "0205616461              0  \n",
       "0558925278              0  \n",
       "0733001998              0  \n",
       "0737104473              0  \n",
       "0762451459              0  \n",
       "\n",
       "[5 rows x 9697 columns]"
      ]
     },
     "execution_count": 8,
     "metadata": {},
     "output_type": "execute_result"
    }
   ],
   "source": [
    "#Transposing the Matrix\n",
    "X = ratings_utility_matrix.T\n",
    "print(\"The shape of transposed matrix is\" + str(X.shape))\n",
    "X1 = X#Making a copy\n",
    "X.head()"
   ]
  },
  {
   "cell_type": "markdown",
   "id": "1bbd2215",
   "metadata": {},
   "source": [
    "#### Decomposing the Matrix"
   ]
  },
  {
   "cell_type": "code",
   "execution_count": 9,
   "id": "ec34497a",
   "metadata": {},
   "outputs": [
    {
     "data": {
      "text/plain": [
       "(886, 10)"
      ]
     },
     "execution_count": 9,
     "metadata": {},
     "output_type": "execute_result"
    }
   ],
   "source": [
    "SVD = TruncatedSVD(n_components=10)#SVD = Singular Value Decomposition \n",
    "decomposed_matrix = SVD.fit_transform(X)\n",
    "decomposed_matrix.shape"
   ]
  },
  {
   "cell_type": "code",
   "execution_count": 10,
   "id": "da245b63",
   "metadata": {},
   "outputs": [
    {
     "data": {
      "text/plain": [
       "array([[-5.62851611e-15,  1.10034130e-14,  4.56961720e-14, ...,\n",
       "         1.76325713e-13, -1.05449175e-12,  1.48983151e-12],\n",
       "       [ 2.19038626e-14,  9.97544809e-14, -2.56860960e-13, ...,\n",
       "        -1.17474660e-11,  4.49650604e-12, -1.43403311e-11],\n",
       "       [ 3.25949436e-16, -1.61635552e-15, -2.89371057e-15, ...,\n",
       "        -7.42850491e-14,  1.35139030e-13, -6.31430905e-14],\n",
       "       ...,\n",
       "       [ 3.28573939e-06,  2.27949940e-01, -1.04100815e-02, ...,\n",
       "        -3.68855924e-03, -6.26121403e-05, -4.90448781e-02],\n",
       "       [ 1.30189940e-07,  8.38900811e-04, -1.50096751e-04, ...,\n",
       "        -3.89334702e-04,  2.75560322e-04, -1.43416503e-02],\n",
       "       [ 1.05872032e-04,  4.17991754e-01,  3.61382346e-01, ...,\n",
       "        -3.38139264e-02, -4.42837375e-02,  2.70672212e-01]])"
      ]
     },
     "execution_count": 10,
     "metadata": {},
     "output_type": "execute_result"
    }
   ],
   "source": [
    "decomposed_matrix"
   ]
  },
  {
   "cell_type": "markdown",
   "id": "2dd5cd30",
   "metadata": {},
   "source": [
    "#### Building the Correlation Matrix"
   ]
  },
  {
   "cell_type": "code",
   "execution_count": 11,
   "id": "353e497c",
   "metadata": {},
   "outputs": [
    {
     "data": {
      "text/plain": [
       "(886, 886)"
      ]
     },
     "execution_count": 11,
     "metadata": {},
     "output_type": "execute_result"
    }
   ],
   "source": [
    "correlation_matrix = np.corrcoef(decomposed_matrix)\n",
    "correlation_matrix.shape"
   ]
  },
  {
   "cell_type": "code",
   "execution_count": 12,
   "id": "44aca3ae",
   "metadata": {},
   "outputs": [
    {
     "data": {
      "text/plain": [
       "array([[ 1.        , -0.77419946, -0.79487388, ..., -0.1968203 ,\n",
       "        -0.67063567,  0.30001233],\n",
       "       [-0.77419946,  1.        ,  0.81300256, ...,  0.26027315,\n",
       "         0.72356029,  0.201325  ],\n",
       "       [-0.79487388,  0.81300256,  1.        , ...,  0.0674471 ,\n",
       "         0.41335684, -0.06484479],\n",
       "       ...,\n",
       "       [-0.1968203 ,  0.26027315,  0.0674471 , ...,  1.        ,\n",
       "         0.32500129,  0.12945616],\n",
       "       [-0.67063567,  0.72356029,  0.41335684, ...,  0.32500129,\n",
       "         1.        ,  0.19987308],\n",
       "       [ 0.30001233,  0.201325  , -0.06484479, ...,  0.12945616,\n",
       "         0.19987308,  1.        ]])"
      ]
     },
     "execution_count": 12,
     "metadata": {},
     "output_type": "execute_result"
    }
   ],
   "source": [
    "correlation_matrix"
   ]
  },
  {
   "cell_type": "code",
   "execution_count": 24,
   "id": "fd8da45e",
   "metadata": {},
   "outputs": [
    {
     "data": {
      "text/plain": [
       "'6117036094'"
      ]
     },
     "execution_count": 24,
     "metadata": {},
     "output_type": "execute_result"
    }
   ],
   "source": [
    "X.index[99]"
   ]
  },
  {
   "cell_type": "markdown",
   "id": "17366f28",
   "metadata": {},
   "source": [
    "Isolating Product ID # 6117036094 from the Correlation Matrix\n",
    "\n",
    "\n",
    "Assuming the customer buys Product ID # 6117036094 (randomly chosen)"
   ]
  },
  {
   "cell_type": "code",
   "execution_count": 13,
   "id": "0b576181",
   "metadata": {},
   "outputs": [
    {
     "data": {
      "text/plain": [
       "99"
      ]
     },
     "execution_count": 13,
     "metadata": {},
     "output_type": "execute_result"
    }
   ],
   "source": [
    "i = \"6117036094\"\n",
    "\n",
    "product_names = list(X.index)\n",
    "product_ID = product_names.index(i)\n",
    "product_ID"
   ]
  },
  {
   "cell_type": "code",
   "execution_count": 26,
   "id": "cf76c128",
   "metadata": {},
   "outputs": [
    {
     "data": {
      "text/plain": [
       "99"
      ]
     },
     "execution_count": 26,
     "metadata": {},
     "output_type": "execute_result"
    }
   ],
   "source": [
    "product_ID"
   ]
  },
  {
   "cell_type": "markdown",
   "id": "fbc92fb9",
   "metadata": {},
   "source": [
    "Correlation for all items with the item purchased by this customer based on items rated by other customers people who bought the same product"
   ]
  },
  {
   "cell_type": "code",
   "execution_count": 15,
   "id": "19cee129",
   "metadata": {},
   "outputs": [
    {
     "data": {
      "text/plain": [
       "(886,)"
      ]
     },
     "execution_count": 15,
     "metadata": {},
     "output_type": "execute_result"
    }
   ],
   "source": [
    "correlation_product_ID = correlation_matrix[product_ID]\n",
    "correlation_product_ID.shape"
   ]
  },
  {
   "cell_type": "code",
   "execution_count": 27,
   "id": "640d4637",
   "metadata": {},
   "outputs": [
    {
     "data": {
      "text/plain": [
       "array([ 2.26919074e-01, -1.62302319e-01,  3.26624584e-01,  4.70310756e-01,\n",
       "        6.36108878e-01, -7.05845032e-01, -7.26164826e-01,  6.49362490e-01,\n",
       "       -7.05796242e-01, -8.37599116e-02, -7.26164826e-01, -1.21547016e-01,\n",
       "       -7.27027656e-01, -7.09396397e-01, -7.05845032e-01, -7.26164826e-01,\n",
       "       -7.26164826e-01,  6.34172949e-01, -7.27027901e-01,  2.07177436e-01,\n",
       "       -3.57065572e-01, -6.84833025e-01, -7.29371945e-01, -1.28254051e-01,\n",
       "       -3.41361770e-01, -6.54662585e-01, -6.40463561e-01, -7.08853770e-01,\n",
       "       -1.28254051e-01, -6.65808077e-01, -6.68170264e-01, -7.05832265e-01,\n",
       "       -7.21299136e-01, -6.55339220e-01, -1.22390330e-01, -7.05845032e-01,\n",
       "       -6.55339220e-01,  5.07478960e-01, -7.05755742e-01, -7.08921081e-01,\n",
       "       -7.08918955e-01, -6.54662585e-01, -7.05857816e-01, -7.05845032e-01,\n",
       "       -7.05845032e-01, -7.05845032e-01, -1.28254051e-01, -7.05845032e-01,\n",
       "       -7.05806635e-01, -7.08921081e-01,  5.16355691e-01, -4.87604396e-02,\n",
       "       -5.42272499e-02, -5.71204766e-01, -2.96155235e-01, -6.40850082e-01,\n",
       "       -7.04452516e-01, -5.87181576e-01, -5.16188949e-01, -1.88470921e-02,\n",
       "        1.93894509e-01,  6.02487619e-01,  4.30247660e-01, -4.38825820e-01,\n",
       "       -4.78618329e-01,  3.33645258e-01, -4.11932551e-01, -4.13337106e-01,\n",
       "       -3.83038036e-01, -8.94431162e-01,  5.99634397e-01, -7.78272274e-01,\n",
       "       -8.95735552e-01, -7.52226360e-01,  4.96608161e-01, -4.33723903e-01,\n",
       "        5.76175036e-01, -6.34151071e-01, -6.49538430e-01, -1.15451663e-01,\n",
       "       -5.58558039e-01,  5.46640213e-01, -7.58292282e-01,  6.45400386e-01,\n",
       "        6.77552048e-01,  8.69477611e-01,  4.46960626e-01, -1.35985532e-01,\n",
       "       -5.54453522e-01, -6.27727336e-01, -2.66928937e-01, -3.26208108e-01,\n",
       "       -6.49868788e-01, -4.20193120e-01, -7.33402506e-01,  5.70301927e-01,\n",
       "        5.71823463e-01,  5.71505930e-01, -4.63075575e-01,  1.00000000e+00,\n",
       "        6.11859710e-01, -5.33163514e-01,  5.95802823e-01, -4.85964688e-01,\n",
       "       -6.96568960e-01, -5.63534790e-01, -5.58980246e-01, -7.87670271e-01,\n",
       "        6.85805291e-01, -7.02235431e-01,  3.61835556e-01, -6.71536274e-01,\n",
       "       -1.42910630e-02,  4.58989402e-01, -5.21556691e-01, -5.16782774e-01,\n",
       "       -6.83694363e-01, -6.87294309e-01,  4.68771359e-01,  5.30583130e-01,\n",
       "        6.90971936e-01,  4.39261298e-01,  5.03968448e-01, -3.28392670e-01,\n",
       "        1.97938243e-01,  5.27778210e-01, -1.27440440e-01,  6.41560185e-01,\n",
       "       -6.70153037e-01,  7.44224761e-01, -3.26504148e-01, -6.84932700e-01,\n",
       "       -1.73714195e-01, -6.23230746e-01, -2.72671041e-01, -7.08260088e-01,\n",
       "        7.33865850e-01, -4.05136349e-01,  3.62981656e-01,  6.43808698e-01,\n",
       "       -3.33895939e-01, -5.09418071e-01, -5.52210049e-01, -3.07038394e-02,\n",
       "        6.65461509e-01, -8.05899614e-01,  5.61668470e-01,  5.88592873e-01,\n",
       "        1.63268380e-01, -6.29897718e-01, -5.87104622e-01,  5.96479824e-01,\n",
       "       -7.97437812e-01, -5.87397816e-01,  4.96524061e-01, -4.53397297e-01,\n",
       "       -9.86130024e-02,  3.72783678e-01, -2.51043298e-01,  6.16348572e-01,\n",
       "       -6.78156860e-01, -5.34116054e-02,  7.39718558e-02,  4.80876985e-01,\n",
       "        2.60675774e-01,  6.05441553e-01, -3.68192791e-01, -1.68363716e-01,\n",
       "        5.41530516e-01, -6.59750860e-01,  6.16506900e-01, -7.48633586e-01,\n",
       "       -4.64200183e-01,  5.63224192e-01,  5.45090038e-01,  1.23785196e-01,\n",
       "       -5.27040324e-01,  1.23558860e-01, -6.01909692e-01, -6.33649396e-01,\n",
       "        1.06557634e-01,  5.42786470e-01,  4.50663887e-01, -6.43953403e-01,\n",
       "        6.17622929e-01,  8.66703939e-01,  2.81383970e-01, -3.92013325e-01,\n",
       "        5.26871396e-01, -4.91090658e-01, -1.12433550e-02, -5.55925863e-01,\n",
       "        6.66099321e-03,  7.81278798e-01, -7.32094882e-01,  7.22062870e-01,\n",
       "        6.33544037e-01, -5.96438261e-01, -4.28195825e-01, -6.30791294e-01,\n",
       "        8.16050857e-01,  6.17622934e-01, -5.70986021e-01, -5.86080269e-01,\n",
       "        3.73037613e-01,  2.56523863e-01,  3.84250146e-01,  6.24742544e-01,\n",
       "        4.69666081e-01, -6.91987994e-01, -2.02283517e-01, -2.62333254e-01,\n",
       "        6.69543856e-01,  4.88856278e-01, -7.97682876e-01,  5.65644529e-01,\n",
       "       -4.32274054e-01,  7.20147678e-01,  5.96486707e-01,  5.78557050e-01,\n",
       "       -4.89046091e-01, -6.05523294e-01,  1.77270430e-01, -6.61800687e-01,\n",
       "       -4.39239853e-02,  7.09311086e-01, -7.41529742e-01,  6.54742441e-01,\n",
       "        6.63119451e-01, -3.02466964e-01,  6.87885718e-01,  2.24004402e-01,\n",
       "        5.45084711e-01, -6.65893786e-01, -3.34368102e-01,  4.26487253e-01,\n",
       "        2.07173060e-01, -3.73881431e-02, -5.82143215e-01, -6.46891765e-01,\n",
       "        7.33475819e-01,  2.87334929e-01, -3.94012667e-01,  6.73127215e-01,\n",
       "        5.77679625e-01, -6.37787627e-01,  3.58165923e-01, -7.09657080e-01,\n",
       "        5.39957796e-01, -5.78248403e-01, -5.70353268e-01,  4.56585259e-01,\n",
       "        5.35876308e-01, -8.84150769e-01, -6.32574303e-01, -6.56812464e-01,\n",
       "       -4.80692104e-01, -3.41903008e-01,  6.99803029e-01,  4.21761337e-07,\n",
       "       -5.31476940e-01, -7.04245468e-01,  6.13291990e-01, -8.13884775e-01,\n",
       "        4.92792271e-01,  5.89480470e-01, -5.02548392e-01, -2.84252784e-01,\n",
       "       -6.93912280e-01,  5.71514007e-01, -6.01525659e-01, -6.88445254e-01,\n",
       "        6.51136256e-01,  3.23839958e-01,  7.12610968e-01, -2.27328617e-01,\n",
       "       -6.20453107e-01, -5.46910138e-01,  3.58217774e-01,  5.91481091e-01,\n",
       "        1.07821051e-01, -5.84198055e-01, -6.55992361e-01, -3.30860221e-01,\n",
       "        6.35787634e-01,  7.26700550e-01,  4.91089420e-01,  4.74764917e-01,\n",
       "        3.19986865e-01, -8.11806916e-02,  9.17319093e-02, -6.48450494e-01,\n",
       "       -1.22348068e-02,  5.60903930e-01, -6.39721341e-01, -6.18729801e-01,\n",
       "       -5.25515418e-01,  6.97097992e-01,  3.67837583e-02,  1.97319674e-01,\n",
       "        4.33411482e-01,  4.31113648e-01, -4.69206238e-01,  6.19539475e-01,\n",
       "        5.10759558e-01,  6.11332121e-01,  5.87756941e-01, -6.94505314e-01,\n",
       "        3.00390991e-01,  3.95490107e-01,  6.16790948e-01, -5.29623164e-01,\n",
       "       -3.43927767e-01, -4.13345807e-01, -4.82566506e-01,  2.85481676e-01,\n",
       "        6.15575645e-01, -5.71211147e-01,  6.89656667e-01, -4.96039256e-01,\n",
       "        1.04469458e-01,  7.52234944e-01, -6.61612877e-01,  5.85674837e-01,\n",
       "       -7.42856282e-01, -6.60201597e-01, -4.49949372e-01,  5.06052938e-01,\n",
       "       -4.13505586e-01, -8.31781505e-01, -7.09750038e-01,  6.65279511e-01,\n",
       "        7.15057840e-01,  8.24547350e-02,  7.62448345e-01, -5.06930968e-01,\n",
       "        3.54311295e-01,  6.69831685e-01, -6.07602025e-01,  7.10059134e-01,\n",
       "        6.23396242e-01, -5.23820770e-01, -2.61294911e-01,  5.95552864e-01,\n",
       "        5.84160024e-01,  5.55432125e-01,  1.16592556e-01,  6.77925854e-01,\n",
       "       -6.04685684e-01, -4.93124669e-01, -7.01035411e-01,  3.16984874e-01,\n",
       "       -1.05262283e-01, -5.08481249e-01, -6.69363205e-01, -6.10218784e-01,\n",
       "       -1.26798091e-01, -6.98876372e-01,  4.78685042e-01,  4.16831153e-01,\n",
       "        5.99281791e-01, -4.48426202e-01, -4.43790588e-02, -3.56385055e-01,\n",
       "       -3.31272765e-01, -9.07246592e-01,  7.81664653e-01, -4.53786556e-01,\n",
       "       -3.90378261e-01,  1.53449243e-01, -8.47146930e-01, -6.00002763e-01,\n",
       "        5.10553616e-01,  7.42373387e-01,  5.05515370e-01, -4.91863790e-01,\n",
       "       -7.58625211e-01,  7.10487387e-01, -7.60799992e-01,  3.90969382e-01,\n",
       "       -5.38911192e-01,  5.77710936e-01, -5.96912972e-01,  5.93786239e-01,\n",
       "       -5.24435831e-01, -7.78268926e-01, -1.04731768e-01, -6.69774296e-01,\n",
       "        9.76238693e-02,  3.22945534e-01,  6.50011936e-01, -1.95650008e-01,\n",
       "       -4.18322732e-01,  6.97487967e-01, -5.02548422e-01,  4.81092281e-01,\n",
       "        5.80277875e-01,  7.12675535e-01,  3.94666851e-01,  6.63383975e-01,\n",
       "        8.21814125e-01, -9.13960258e-02,  4.77348176e-01,  4.77947281e-01,\n",
       "       -6.06936442e-01,  4.94862989e-01,  2.72105226e-01,  5.88006548e-01,\n",
       "        7.24269785e-01, -3.87633483e-01, -5.98759188e-01,  3.61094991e-01,\n",
       "       -1.83737405e-01,  5.18077022e-01, -4.76884182e-01, -1.83737405e-01,\n",
       "       -5.39306396e-01,  4.45031092e-01, -5.24337021e-01, -7.83197689e-01,\n",
       "       -6.91639018e-01,  6.51683283e-01,  7.50595168e-01,  5.68556840e-01,\n",
       "        1.90163969e-01, -6.87229005e-01,  2.07629185e-01,  6.41315175e-01,\n",
       "       -7.10540236e-01, -7.77102095e-01,  2.68896541e-01,  4.57100651e-01,\n",
       "        5.99525413e-02,  4.79063270e-01,  7.85510304e-01,  5.95784795e-01,\n",
       "        6.79347261e-01,  5.71199163e-01,  7.31670489e-01,  5.36696229e-01,\n",
       "       -6.22768740e-01,  6.25696939e-01, -7.63535928e-01,  7.08774714e-01,\n",
       "        3.16255142e-01,  5.30616917e-01,  7.14152641e-01,  3.43986891e-01,\n",
       "       -5.61277628e-01, -7.44102305e-01, -5.64008900e-01,  4.98339962e-01,\n",
       "        9.49630798e-01, -5.62858010e-01,  6.26875372e-01,  4.36369422e-01,\n",
       "        5.01653947e-01,  7.62265353e-01, -5.94910421e-01,  9.08173853e-01,\n",
       "       -6.30634370e-01,  5.99681300e-01,  6.19420426e-01, -7.78612611e-01,\n",
       "        9.74537016e-02, -6.07034609e-01, -7.64367159e-01, -2.82177405e-01,\n",
       "       -5.65205127e-01, -6.96153242e-01,  7.68358736e-01,  6.13332040e-01,\n",
       "        4.81052586e-01,  5.31092896e-01, -5.89780748e-01,  5.06768887e-01,\n",
       "       -6.73786407e-01,  5.12599165e-01,  5.65314677e-01,  3.87088648e-01,\n",
       "       -6.27692216e-01,  4.62817719e-01, -5.09597117e-01, -7.15113251e-01,\n",
       "       -7.34893572e-01, -3.95864627e-01,  5.79935710e-01,  8.69248875e-01,\n",
       "       -5.59867507e-01, -3.76640439e-01, -6.13214073e-01, -7.17158915e-01,\n",
       "       -8.40780275e-01, -7.39016117e-01,  6.15565555e-01, -1.86423596e-01,\n",
       "       -6.28716902e-01,  5.79200531e-01,  5.49608372e-01,  7.20345006e-02,\n",
       "        5.62489155e-01, -4.23805917e-01,  6.21671808e-01,  4.91409291e-01,\n",
       "       -8.52074534e-01, -2.49501111e-01, -2.50320093e-01,  5.11961894e-01,\n",
       "       -4.38391946e-01, -7.07999185e-01,  6.00732466e-01, -2.99557454e-01,\n",
       "        5.58669318e-01, -5.66988023e-02, -7.26406820e-01,  5.91908324e-01,\n",
       "        9.60611067e-01,  6.51551777e-01, -4.82398430e-01,  6.66352456e-01,\n",
       "        3.73265896e-01, -9.38599758e-01,  5.02144559e-01,  4.15996299e-01,\n",
       "        4.62915171e-01,  6.45390435e-01, -5.61511217e-01, -4.47253159e-01,\n",
       "        7.59812613e-01, -6.01045466e-01,  7.82870369e-01, -7.64291343e-01,\n",
       "       -8.17326514e-01,  6.33216546e-01, -4.50234405e-01, -3.33869069e-02,\n",
       "        4.87929008e-01, -5.85158533e-01, -5.85836780e-01,  6.99694964e-01,\n",
       "       -4.69955386e-01, -6.54604692e-02,  4.68693719e-01, -6.49758313e-01,\n",
       "        5.75215186e-01, -8.21884443e-01, -5.43311159e-01, -1.85115387e-01,\n",
       "       -7.20184970e-01, -7.43206024e-01, -5.20655069e-01,  6.80040638e-01,\n",
       "        4.56907397e-01, -4.70893856e-01,  2.60014621e-01, -6.09442643e-01,\n",
       "       -7.04682439e-01,  4.94030256e-01, -2.64212883e-01,  4.96400154e-01,\n",
       "        6.09376171e-01,  4.68186930e-01,  3.88742433e-01,  4.35567408e-01,\n",
       "       -6.05250773e-02, -4.03122689e-01, -4.53690232e-01,  5.18059304e-01,\n",
       "       -6.09354543e-01,  5.55296621e-01, -5.33147762e-01, -5.96515471e-01,\n",
       "       -5.49128720e-01, -3.73002521e-01, -7.80693062e-01,  5.98986448e-01,\n",
       "       -6.16343738e-01,  4.69492757e-01, -2.27200134e-01, -5.83916825e-02,\n",
       "       -5.03469785e-02, -4.33463772e-01, -5.51729477e-01,  6.22468860e-01,\n",
       "        3.34981412e-01,  8.90693138e-01, -6.01427628e-01, -5.28259076e-01,\n",
       "        6.16797452e-01, -7.03553506e-01, -7.20912905e-01, -1.43099583e-01,\n",
       "       -1.73919371e-01, -1.64678335e-01, -2.36256373e-01, -6.49183346e-01,\n",
       "       -1.45103754e-01, -3.09462281e-01, -7.59560942e-01,  4.99004923e-01,\n",
       "       -4.55110129e-01, -7.32586080e-01,  6.22701563e-01, -6.23150819e-01,\n",
       "       -5.71726199e-01, -2.41741280e-01,  5.98225060e-01,  7.46650336e-01,\n",
       "       -5.58797545e-01,  6.67673665e-01, -5.77834810e-01,  4.89537960e-01,\n",
       "       -1.12235835e-01, -4.75236542e-01, -5.21356314e-01,  5.68786935e-01,\n",
       "        6.70521353e-01, -4.07031784e-01, -5.21960704e-01, -7.56001720e-01,\n",
       "       -6.25461010e-01,  7.43453684e-01, -7.60714099e-01, -5.45639715e-01,\n",
       "        4.91345739e-01,  7.01671232e-01, -2.24653222e-01,  7.63396482e-01,\n",
       "        7.57072959e-01, -4.43020803e-01, -5.78388601e-01,  1.52917059e-01,\n",
       "        7.26682872e-01,  6.38291143e-01, -6.01741384e-01,  2.34407050e-01,\n",
       "       -6.18602441e-01, -1.41992035e-02,  6.82960467e-01, -6.56927573e-01,\n",
       "       -5.16548100e-01, -6.70392972e-01, -4.22587627e-01, -4.22603034e-01,\n",
       "        2.98353336e-01, -5.33448059e-01, -7.60354047e-01, -5.93777074e-01,\n",
       "        6.48614830e-01,  4.39811093e-01, -6.54391215e-01, -6.70032908e-01,\n",
       "        5.01581189e-01, -9.56550656e-02,  5.98886256e-02, -1.33582579e-01,\n",
       "       -5.46254482e-01,  4.69928105e-01,  4.75874212e-01, -3.58598079e-01,\n",
       "       -7.98308592e-01, -8.12643322e-01,  6.50014590e-01, -5.06681769e-01,\n",
       "       -5.57476710e-01, -7.04372323e-02,  4.69927645e-01,  5.09294697e-01,\n",
       "       -7.58458964e-01,  4.42636555e-01, -2.61152203e-01, -5.70202453e-01,\n",
       "       -1.84040390e-01, -7.96639049e-01,  7.22698752e-01,  1.41973397e-01,\n",
       "       -1.42571768e-01,  5.65416271e-01, -3.33648208e-01, -4.71149851e-01,\n",
       "        6.00571006e-02, -7.07860471e-01, -5.06681769e-01,  3.88449922e-01,\n",
       "       -6.84955153e-01,  5.22948567e-01,  7.30759520e-01,  7.28358593e-01,\n",
       "        1.42264339e-01,  2.33509351e-01,  1.76411017e-01, -6.85821919e-01,\n",
       "       -5.92545356e-01, -4.50673601e-01, -2.82673080e-01, -8.00143202e-01,\n",
       "        7.18416814e-02, -4.78379714e-01, -7.64757836e-01, -5.52896906e-01,\n",
       "        5.82933167e-01, -6.32835740e-01,  2.58095715e-01, -8.65811521e-01,\n",
       "       -1.79988513e-01, -6.03405859e-01,  6.28562854e-01, -6.09753495e-01,\n",
       "        7.43422936e-01, -5.57084458e-01, -6.13522422e-01,  1.46513213e-01,\n",
       "        7.00968884e-01, -6.54803820e-01,  6.19591477e-01, -5.38958750e-01,\n",
       "       -7.46406756e-01, -1.75165005e-02,  2.89776350e-01, -1.27732365e-01,\n",
       "       -4.99766928e-01, -6.52486040e-01, -5.47596783e-01,  7.12218484e-01,\n",
       "       -7.62754231e-01, -6.81122506e-01,  5.63496133e-01,  5.02276890e-01,\n",
       "       -5.08530199e-01,  4.03540320e-01,  7.22062870e-01, -4.27245788e-01,\n",
       "       -4.38163240e-01, -2.49627858e-01, -4.13914291e-01, -7.08049397e-01,\n",
       "       -8.14492053e-01,  3.82926104e-01, -7.08651224e-01,  1.64833082e-01,\n",
       "       -7.15031715e-01, -6.10504513e-01,  6.35743720e-01, -7.21797152e-01,\n",
       "        6.18795277e-01,  6.20755122e-01, -3.24098973e-01, -9.82681412e-02,\n",
       "       -7.44213231e-01, -7.44216379e-01, -1.71742755e-01,  1.17401078e-01,\n",
       "       -4.21673887e-01,  3.74985224e-01, -3.22041822e-01,  8.31750501e-01,\n",
       "        1.64598239e-02,  2.22048444e-01, -8.51316885e-02,  7.17117593e-01,\n",
       "       -7.98412554e-01,  6.10332162e-01, -3.81100315e-01, -6.89433372e-01,\n",
       "       -3.56084492e-01, -4.71741296e-01,  5.48971040e-01,  6.91385810e-01,\n",
       "       -7.85570035e-02, -7.77567773e-01,  8.31406848e-01, -1.27214862e-01,\n",
       "       -1.63896601e-01,  9.86643835e-02, -3.01882732e-01, -7.95614371e-01,\n",
       "       -3.58612787e-01, -6.79151351e-01,  2.76983496e-01,  5.24042539e-01,\n",
       "        6.26269398e-01,  5.98291806e-01, -3.87291769e-01, -1.04735755e-01,\n",
       "        6.82858481e-01, -5.43373214e-01, -6.74737718e-01, -6.77737490e-01,\n",
       "        5.64721377e-01, -5.69882647e-01, -2.32039804e-01,  1.80975216e-01,\n",
       "       -8.30196534e-01,  4.06744387e-01, -5.86707283e-01, -5.61236396e-01,\n",
       "        5.43987743e-01, -7.37599303e-01, -7.45794211e-01,  7.11909578e-01,\n",
       "        6.32655387e-01,  6.03648865e-01,  5.94231293e-01,  2.84843240e-01,\n",
       "        2.83122495e-01,  5.90225924e-01,  5.89201485e-01, -5.65646946e-01,\n",
       "       -2.06434089e-02,  7.61958450e-01,  5.35134405e-01, -3.49981292e-01,\n",
       "       -2.46964417e-01,  3.50817963e-01, -1.20417906e-01, -4.59598224e-01,\n",
       "        3.10628314e-01,  1.67380981e-01,  6.12422137e-01,  7.01873678e-01,\n",
       "       -2.23071591e-01,  2.72778367e-01, -6.16637876e-01, -1.95628167e-01,\n",
       "        4.86223244e-01,  1.19055082e-01, -5.15383386e-01,  4.53650802e-01,\n",
       "       -3.96397715e-01,  6.26579178e-01,  2.39137176e-01,  7.01261924e-01,\n",
       "        4.56217744e-01,  5.45648252e-01, -2.37946502e-01,  1.20858084e-01,\n",
       "       -2.05963326e-01, -3.87666010e-01, -6.06583461e-01, -5.81049938e-01,\n",
       "        7.33571380e-01,  3.63389761e-01, -3.00507169e-01, -1.77446506e-01,\n",
       "       -5.11398472e-01, -3.51195518e-01, -2.54676403e-01, -5.43542112e-01,\n",
       "        1.06423498e-01, -6.55184724e-01,  6.15925532e-01, -4.00476430e-01,\n",
       "       -1.76264315e-01, -6.29451459e-01,  4.72406968e-01, -7.97940602e-01,\n",
       "       -5.17526456e-01, -5.47637762e-01, -2.97931568e-01, -5.91017718e-01,\n",
       "       -3.44773234e-01,  2.81408957e-01,  2.83111342e-01,  6.78754358e-01,\n",
       "        4.18272101e-02,  2.86311927e-01, -4.50839762e-01,  1.81310745e-01,\n",
       "       -7.93406410e-01, -4.54152420e-01, -6.68385257e-01,  5.36066174e-01,\n",
       "        4.01980216e-01, -1.87987208e-01,  6.97030990e-01, -6.78497189e-01,\n",
       "       -5.23738235e-01,  6.41114352e-01, -2.17413770e-01, -6.61545754e-01,\n",
       "       -6.65490847e-01, -3.57455185e-01, -5.30785555e-01, -2.98736133e-01,\n",
       "       -4.76979726e-01,  3.18672877e-02])"
      ]
     },
     "execution_count": 27,
     "metadata": {},
     "output_type": "execute_result"
    }
   ],
   "source": [
    "correlation_product_ID"
   ]
  },
  {
   "cell_type": "markdown",
   "id": "5d4b330f",
   "metadata": {},
   "source": [
    "**Recommending top 10 highly correlated products in sequence**"
   ]
  },
  {
   "cell_type": "code",
   "execution_count": 22,
   "id": "2278e15c",
   "metadata": {},
   "outputs": [],
   "source": [
    "Recommend = list(X.index[correlation_product_ID > 0.80])"
   ]
  },
  {
   "cell_type": "code",
   "execution_count": 23,
   "id": "bcf8f905",
   "metadata": {},
   "outputs": [
    {
     "data": {
      "text/plain": [
       "['5357955972',\n",
       " '9788071198',\n",
       " '9788072208',\n",
       " '9790781946',\n",
       " '9790787006',\n",
       " '9790787626',\n",
       " '9790789564',\n",
       " '9790791798',\n",
       " '9790797818']"
      ]
     },
     "execution_count": 23,
     "metadata": {},
     "output_type": "execute_result"
    }
   ],
   "source": [
    "# Removes the item already bought by the customer\n",
    "Recommend.remove(i) \n",
    "Recommend[0:9]"
   ]
  },
  {
   "cell_type": "markdown",
   "id": "dad1bcf7",
   "metadata": {},
   "source": [
    "#### Summary"
   ]
  },
  {
   "cell_type": "markdown",
   "id": "a2a697c5",
   "metadata": {},
   "source": [
    "Product Id # Here are the top 10 products to be displayed by the recommendation system to the above customer based on the purchase history of other customers in the website."
   ]
  },
  {
   "cell_type": "markdown",
   "id": "cabf6e91",
   "metadata": {},
   "source": [
    "### <font color='Brown'>Recommendation System Part 3 </font>"
   ]
  },
  {
   "cell_type": "markdown",
   "id": "4f405814",
   "metadata": {},
   "source": [
    "* For a business without any user-item purchase history, a search engine based recommendation system can be designed for users. The product recommendations can be based on textual clustering analysis given in product description.\n",
    "* Dataset : Home Depot's dataset with product dataset."
   ]
  },
  {
   "cell_type": "code",
   "execution_count": 28,
   "id": "e735e9cf",
   "metadata": {},
   "outputs": [],
   "source": [
    "# Importing libraries\n",
    "\n",
    "from sklearn.feature_extraction.text import TfidfVectorizer, CountVectorizer\n",
    "from sklearn.neighbors import NearestNeighbors\n",
    "from sklearn.cluster import KMeans\n",
    "from sklearn.metrics import adjusted_rand_score"
   ]
  },
  {
   "cell_type": "markdown",
   "id": "a0e85545",
   "metadata": {},
   "source": [
    "**Item to item based recommendation system based on product description**\n",
    "* Applicable when business is setting up its E-commerce website for the first time"
   ]
  },
  {
   "cell_type": "code",
   "execution_count": 29,
   "id": "5a02afed",
   "metadata": {},
   "outputs": [
    {
     "name": "stdout",
     "output_type": "stream",
     "text": [
      "The shape of Product Descriptions is(124428, 2)\n"
     ]
    },
    {
     "data": {
      "text/html": [
       "<div>\n",
       "<style scoped>\n",
       "    .dataframe tbody tr th:only-of-type {\n",
       "        vertical-align: middle;\n",
       "    }\n",
       "\n",
       "    .dataframe tbody tr th {\n",
       "        vertical-align: top;\n",
       "    }\n",
       "\n",
       "    .dataframe thead th {\n",
       "        text-align: right;\n",
       "    }\n",
       "</style>\n",
       "<table border=\"1\" class=\"dataframe\">\n",
       "  <thead>\n",
       "    <tr style=\"text-align: right;\">\n",
       "      <th></th>\n",
       "      <th>product_uid</th>\n",
       "      <th>product_description</th>\n",
       "    </tr>\n",
       "  </thead>\n",
       "  <tbody>\n",
       "    <tr>\n",
       "      <th>0</th>\n",
       "      <td>100001</td>\n",
       "      <td>Not only do angles make joints stronger, they ...</td>\n",
       "    </tr>\n",
       "    <tr>\n",
       "      <th>1</th>\n",
       "      <td>100002</td>\n",
       "      <td>BEHR Premium Textured DECKOVER is an innovativ...</td>\n",
       "    </tr>\n",
       "    <tr>\n",
       "      <th>2</th>\n",
       "      <td>100003</td>\n",
       "      <td>Classic architecture meets contemporary design...</td>\n",
       "    </tr>\n",
       "    <tr>\n",
       "      <th>3</th>\n",
       "      <td>100004</td>\n",
       "      <td>The Grape Solar 265-Watt Polycrystalline PV So...</td>\n",
       "    </tr>\n",
       "  </tbody>\n",
       "</table>\n",
       "</div>"
      ],
      "text/plain": [
       "   product_uid                                product_description\n",
       "0       100001  Not only do angles make joints stronger, they ...\n",
       "1       100002  BEHR Premium Textured DECKOVER is an innovativ...\n",
       "2       100003  Classic architecture meets contemporary design...\n",
       "3       100004  The Grape Solar 265-Watt Polycrystalline PV So..."
      ]
     },
     "execution_count": 29,
     "metadata": {},
     "output_type": "execute_result"
    }
   ],
   "source": [
    "product_descriptions =  pd.read_csv(os.path.join(input_path,'product_descriptions.csv'))\n",
    "print(\"The shape of Product Descriptions is\" + str(product_descriptions.shape))\n",
    "product_descriptions.head(4)"
   ]
  },
  {
   "cell_type": "code",
   "execution_count": 30,
   "id": "6621b900",
   "metadata": {},
   "outputs": [
    {
     "name": "stdout",
     "output_type": "stream",
     "text": [
      "The shape of Product Descriptions is(124428, 2)\n"
     ]
    },
    {
     "data": {
      "text/html": [
       "<div>\n",
       "<style scoped>\n",
       "    .dataframe tbody tr th:only-of-type {\n",
       "        vertical-align: middle;\n",
       "    }\n",
       "\n",
       "    .dataframe tbody tr th {\n",
       "        vertical-align: top;\n",
       "    }\n",
       "\n",
       "    .dataframe thead th {\n",
       "        text-align: right;\n",
       "    }\n",
       "</style>\n",
       "<table border=\"1\" class=\"dataframe\">\n",
       "  <thead>\n",
       "    <tr style=\"text-align: right;\">\n",
       "      <th></th>\n",
       "      <th>product_uid</th>\n",
       "      <th>product_description</th>\n",
       "    </tr>\n",
       "  </thead>\n",
       "  <tbody>\n",
       "    <tr>\n",
       "      <th>0</th>\n",
       "      <td>100001</td>\n",
       "      <td>Not only do angles make joints stronger, they ...</td>\n",
       "    </tr>\n",
       "    <tr>\n",
       "      <th>1</th>\n",
       "      <td>100002</td>\n",
       "      <td>BEHR Premium Textured DECKOVER is an innovativ...</td>\n",
       "    </tr>\n",
       "    <tr>\n",
       "      <th>2</th>\n",
       "      <td>100003</td>\n",
       "      <td>Classic architecture meets contemporary design...</td>\n",
       "    </tr>\n",
       "    <tr>\n",
       "      <th>3</th>\n",
       "      <td>100004</td>\n",
       "      <td>The Grape Solar 265-Watt Polycrystalline PV So...</td>\n",
       "    </tr>\n",
       "    <tr>\n",
       "      <th>4</th>\n",
       "      <td>100005</td>\n",
       "      <td>Update your bathroom with the Delta Vero Singl...</td>\n",
       "    </tr>\n",
       "  </tbody>\n",
       "</table>\n",
       "</div>"
      ],
      "text/plain": [
       "   product_uid                                product_description\n",
       "0       100001  Not only do angles make joints stronger, they ...\n",
       "1       100002  BEHR Premium Textured DECKOVER is an innovativ...\n",
       "2       100003  Classic architecture meets contemporary design...\n",
       "3       100004  The Grape Solar 265-Watt Polycrystalline PV So...\n",
       "4       100005  Update your bathroom with the Delta Vero Singl..."
      ]
     },
     "execution_count": 30,
     "metadata": {},
     "output_type": "execute_result"
    }
   ],
   "source": [
    "# Missing values\n",
    "product_descriptions = product_descriptions.dropna()\n",
    "print(\"The shape of Product Descriptions is\" + str(product_descriptions.shape))\n",
    "product_descriptions.head()"
   ]
  },
  {
   "cell_type": "code",
   "execution_count": 31,
   "id": "6190a9e7",
   "metadata": {},
   "outputs": [
    {
     "data": {
      "text/plain": [
       "0    Not only do angles make joints stronger, they ...\n",
       "1    BEHR Premium Textured DECKOVER is an innovativ...\n",
       "2    Classic architecture meets contemporary design...\n",
       "3    The Grape Solar 265-Watt Polycrystalline PV So...\n",
       "4    Update your bathroom with the Delta Vero Singl...\n",
       "5    Achieving delicious results is almost effortle...\n",
       "6    The Quantum Adjustable 2-Light LED Black Emerg...\n",
       "7    The Teks #10 x 1-1/2 in. Zinc-Plated Steel Was...\n",
       "8    Get the House of Fara 3/4 in. x 3 in. x 8 ft. ...\n",
       "9    Valley View Industries Metal Stakes (4-Pack) a...\n",
       "Name: product_description, dtype: object"
      ]
     },
     "execution_count": 31,
     "metadata": {},
     "output_type": "execute_result"
    }
   ],
   "source": [
    "#Subsetting the Dataset\n",
    "product_descriptions1 = product_descriptions.head(500)\n",
    "product_descriptions1[\"product_description\"].head(10)"
   ]
  },
  {
   "cell_type": "markdown",
   "id": "77def976",
   "metadata": {},
   "source": [
    "**Feature extraction from product descriptions**\n",
    "Converting the text in product description into numerical data for analysis"
   ]
  },
  {
   "cell_type": "code",
   "execution_count": 32,
   "id": "e9269473",
   "metadata": {},
   "outputs": [
    {
     "data": {
      "text/plain": [
       "<500x8932 sparse matrix of type '<class 'numpy.float64'>'\n",
       "\twith 34817 stored elements in Compressed Sparse Row format>"
      ]
     },
     "execution_count": 32,
     "metadata": {},
     "output_type": "execute_result"
    }
   ],
   "source": [
    "vectorizer = TfidfVectorizer(stop_words='english')\n",
    "X1 = vectorizer.fit_transform(product_descriptions1[\"product_description\"])\n",
    "X1"
   ]
  },
  {
   "cell_type": "markdown",
   "id": "ea86043b",
   "metadata": {},
   "source": [
    "#### Visualizing product clusters in subset of data"
   ]
  },
  {
   "cell_type": "code",
   "execution_count": 33,
   "id": "8935c566",
   "metadata": {},
   "outputs": [
    {
     "data": {
      "image/png": "[encoded data removed]",
      "text/plain": [
       "<Figure size 432x288 with 1 Axes>"
      ]
     },
     "metadata": {},
     "output_type": "display_data"
    }
   ],
   "source": [
    "# Fitting K-Means to the dataset\n",
    "\n",
    "X=X1\n",
    "kmeans = KMeans(n_clusters = 10, init = 'k-means++')\n",
    "y_kmeans = kmeans.fit_predict(X)\n",
    "plt.plot(y_kmeans, \".\")\n",
    "plt.show()"
   ]
  },
  {
   "cell_type": "code",
   "execution_count": 34,
   "id": "03812e80",
   "metadata": {},
   "outputs": [],
   "source": [
    "def print_cluster(i):\n",
    "    print(\"Cluster %d:\" % i),\n",
    "    for ind in order_centroids[i, :10]:\n",
    "        print(' %s' % terms[ind]),\n",
    "    print"
   ]
  },
  {
   "cell_type": "code",
   "execution_count": 35,
   "id": "0809adbb",
   "metadata": {},
   "outputs": [
    {
     "name": "stdout",
     "output_type": "stream",
     "text": [
      "Top terms per cluster:\n",
      "Cluster 0:\n",
      " watering\n",
      " head\n",
      " shower\n",
      " plants\n",
      " stake\n",
      " sprinkler\n",
      " gal\n",
      " plastic\n",
      " miracle\n",
      " gro\n",
      "Cluster 1:\n",
      " ft\n",
      " patio\n",
      " frame\n",
      " easy\n",
      " insulation\n",
      " fabric\n",
      " ladder\n",
      " steel\n",
      " resistant\n",
      " 12\n",
      "Cluster 2:\n",
      " storage\n",
      " shelves\n",
      " adjustable\n",
      " cutting\n",
      " easy\n",
      " shelf\n",
      " solid\n",
      " duty\n",
      " space\n",
      " lbs\n",
      "Cluster 3:\n",
      " water\n",
      " brush\n",
      " concrete\n",
      " garage\n",
      " easy\n",
      " use\n",
      " ft\n",
      " california\n",
      " used\n",
      " paint\n",
      "Cluster 4:\n",
      " toilet\n",
      " flush\n",
      " piece\n",
      " water\n",
      " design\n",
      " bowl\n",
      " tank\n",
      " filter\n",
      " features\n",
      " tile\n",
      "Cluster 5:\n",
      " rug\n",
      " tape\n",
      " vary\n",
      " outdoor\n",
      " patterns\n",
      " indoor\n",
      " ft\n",
      " slightly\n",
      " window\n",
      " product\n",
      "Cluster 6:\n",
      " air\n",
      " power\n",
      " snow\n",
      " cooling\n",
      " helps\n",
      " engine\n",
      " control\n",
      " blower\n",
      " unit\n",
      " protection\n",
      "Cluster 7:\n",
      " bamboo\n",
      " natural\n",
      " panels\n",
      " wood\n",
      " fencing\n",
      " fence\n",
      " post\n",
      " ft\n",
      " treated\n",
      " quality\n",
      "Cluster 8:\n",
      " light\n",
      " nickel\n",
      " watt\n",
      " finish\n",
      " led\n",
      " home\n",
      " bulb\n",
      " bulbs\n",
      " white\n",
      " fan\n",
      "Cluster 9:\n",
      " metal\n",
      " steel\n",
      " screws\n",
      " drill\n",
      " screw\n",
      " 20\n",
      " gauge\n",
      " hole\n",
      " tool\n",
      " use\n"
     ]
    }
   ],
   "source": [
    "# # Optimal clusters is \n",
    "\n",
    "true_k = 10\n",
    "\n",
    "model = KMeans(n_clusters=true_k, init='k-means++', max_iter=100, n_init=1)\n",
    "model.fit(X1)\n",
    "\n",
    "print(\"Top terms per cluster:\")\n",
    "order_centroids = model.cluster_centers_.argsort()[:, ::-1]\n",
    "terms = vectorizer.get_feature_names()\n",
    "for i in range(true_k):\n",
    "    print_cluster(i)"
   ]
  },
  {
   "cell_type": "code",
   "execution_count": 36,
   "id": "5dbb2c61",
   "metadata": {},
   "outputs": [],
   "source": [
    "def show_recommendations(product):\n",
    "    #print(\"Cluster ID:\")\n",
    "    Y = vectorizer.transform([product])\n",
    "    prediction = model.predict(Y)\n",
    "    #print(prediction)\n",
    "    print_cluster(prediction[0])"
   ]
  },
  {
   "cell_type": "code",
   "execution_count": 37,
   "id": "5ea4522d",
   "metadata": {},
   "outputs": [
    {
     "name": "stdout",
     "output_type": "stream",
     "text": [
      "Cluster 2:\n",
      " storage\n",
      " shelves\n",
      " adjustable\n",
      " cutting\n",
      " easy\n",
      " shelf\n",
      " solid\n",
      " duty\n",
      " space\n",
      " lbs\n"
     ]
    }
   ],
   "source": [
    "show_recommendations(\"cutting tool\")"
   ]
  },
  {
   "cell_type": "code",
   "execution_count": 38,
   "id": "75d55602",
   "metadata": {},
   "outputs": [
    {
     "name": "stdout",
     "output_type": "stream",
     "text": [
      "Cluster 3:\n",
      " water\n",
      " brush\n",
      " concrete\n",
      " garage\n",
      " easy\n",
      " use\n",
      " ft\n",
      " california\n",
      " used\n",
      " paint\n"
     ]
    }
   ],
   "source": [
    "show_recommendations(\"spray paint\")"
   ]
  },
  {
   "cell_type": "code",
   "execution_count": 39,
   "id": "fcf7a0b0",
   "metadata": {},
   "outputs": [
    {
     "name": "stdout",
     "output_type": "stream",
     "text": [
      "Cluster 9:\n",
      " metal\n",
      " steel\n",
      " screws\n",
      " drill\n",
      " screw\n",
      " 20\n",
      " gauge\n",
      " hole\n",
      " tool\n",
      " use\n"
     ]
    }
   ],
   "source": [
    "show_recommendations(\"steel drill\")"
   ]
  },
  {
   "cell_type": "code",
   "execution_count": null,
   "id": "e3e75d72",
   "metadata": {},
   "outputs": [],
   "source": [
    "show_recommendations(\"water\")"
   ]
  },
  {
   "cell_type": "markdown",
   "id": "2bde3ca4",
   "metadata": {},
   "source": [
    "Once a cluster is identified based on the user's search words, the recommendation system can display items from the corresponding product clusters based on the product descriptions."
   ]
  },
  {
   "cell_type": "code",
   "execution_count": null,
   "id": "55939304",
   "metadata": {},
   "outputs": [],
   "source": []
  }
 ],
 "metadata": {
  "kernelspec": {
   "display_name": "Python 3",
   "language": "python",
   "name": "python3"
  },
  "language_info": {
   "codemirror_mode": {
    "name": "ipython",
    "version": 3
   },
   "file_extension": ".py",
   "mimetype": "text/x-python",
   "name": "python",
   "nbconvert_exporter": "python",
   "pygments_lexer": "ipython3",
   "version": "3.8.8"
  }
 },
 "nbformat": 4,
 "nbformat_minor": 5
}
